{
 "cells": [
  {
   "cell_type": "markdown",
   "id": "6fc47582-1cf7-42fb-9d6e-0d075b390b3e",
   "metadata": {},
   "source": [
    "# Data Science Tools and Ecosystem"
   ]
  },
  {
   "cell_type": "markdown",
   "id": "fb4441ed-de37-49d8-a4ff-0d6389526167",
   "metadata": {},
   "source": [
    "In this notebook, Data Science Tools and Ecosystem are summarized."
   ]
  },
  {
   "cell_type": "markdown",
   "id": "e95da8de-90e5-466c-831e-95b4ed1b5186",
   "metadata": {},
   "source": [
    "Some of the popular languages that Data Scientists use are:\n",
    "1. SQL\n",
    "2. Python\n",
    "3. R"
   ]
  },
  {
   "cell_type": "markdown",
   "id": "d39734cb-51da-49d5-90e6-2f4f872c1fc1",
   "metadata": {},
   "source": [
    "Some of the commonly used libraries used by Data Scientists include:\n",
    "1. ggplot\n",
    "2. caret\n",
    "3. stringr"
   ]
  },
  {
   "cell_type": "markdown",
   "id": "0137b3c1-4775-41dc-93cf-174414aefa81",
   "metadata": {},
   "source": [
    "|Data Science Tools\n",
    "|----|\n",
    "|VisualStudio\n",
    "|Rstudio\n",
    "|Jupyter"
   ]
  },
  {
   "cell_type": "markdown",
   "id": "50b1f13e-3d9e-4b0e-9dc3-74a828d95dce",
   "metadata": {},
   "source": [
    "### Below are a few examples of evaluating arithmetic expressions in Python"
   ]
  },
  {
   "cell_type": "code",
   "execution_count": 4,
   "id": "71ec9334-0091-422d-afd2-e0f9478c618c",
   "metadata": {},
   "outputs": [
    {
     "data": {
      "text/plain": [
       "17"
      ]
     },
     "execution_count": 4,
     "metadata": {},
     "output_type": "execute_result"
    }
   ],
   "source": [
    "# This a simple arithmetic expression to mutiply then add integers\n",
    "(3*4)+5"
   ]
  },
  {
   "cell_type": "code",
   "execution_count": 3,
   "id": "384ce840-ede2-4151-9038-ea4fbb7e4470",
   "metadata": {},
   "outputs": [
    {
     "data": {
      "text/plain": [
       "3.3333333333333335"
      ]
     },
     "execution_count": 3,
     "metadata": {},
     "output_type": "execute_result"
    }
   ],
   "source": [
    "# This will convert 200 minutes to hours by diving by 60\n",
    "200/60"
   ]
  },
  {
   "cell_type": "markdown",
   "id": "ad0ab264-85c9-4f82-816a-48910b1dd519",
   "metadata": {},
   "source": [
    "**Objectives**\n",
    "* Python\n",
    "* SQL\n",
    "* R"
   ]
  },
  {
   "cell_type": "markdown",
   "id": "c7392c8e-e334-477a-a1c4-269defd0551b",
   "metadata": {},
   "source": [
    "## Sammi Wang"
   ]
  },
  {
   "cell_type": "code",
   "execution_count": null,
   "id": "698e413a-0d50-4cf0-9091-ba83d2e78a88",
   "metadata": {},
   "outputs": [],
   "source": []
  },
  {
   "cell_type": "code",
   "execution_count": null,
   "id": "c65d4230-784a-4556-b095-daaeaf2fbce2",
   "metadata": {},
   "outputs": [],
   "source": []
  }
 ],
 "metadata": {
  "kernelspec": {
   "display_name": "Python 3 (ipykernel)",
   "language": "python",
   "name": "python3"
  },
  "language_info": {
   "codemirror_mode": {
    "name": "ipython",
    "version": 3
   },
   "file_extension": ".py",
   "mimetype": "text/x-python",
   "name": "python",
   "nbconvert_exporter": "python",
   "pygments_lexer": "ipython3",
   "version": "3.12.8"
  }
 },
 "nbformat": 4,
 "nbformat_minor": 5
}
